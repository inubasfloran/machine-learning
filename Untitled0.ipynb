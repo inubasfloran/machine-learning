{
  "nbformat": 4,
  "nbformat_minor": 0,
  "metadata": {
    "colab": {
      "name": "Untitled0.ipynb",
      "provenance": [],
      "collapsed_sections": [],
      "authorship_tag": "ABX9TyPTjwJdwMssEbolXOhF+Btn",
      "include_colab_link": true
    },
    "kernelspec": {
      "name": "python3",
      "display_name": "Python 3"
    },
    "language_info": {
      "name": "python"
    }
  },
  "cells": [
    {
      "cell_type": "markdown",
      "metadata": {
        "id": "view-in-github",
        "colab_type": "text"
      },
      "source": [
        "<a href=\"https://colab.research.google.com/github/inubasfloran/machine-learning/blob/master/Untitled0.ipynb\" target=\"_parent\"><img src=\"https://colab.research.google.com/assets/colab-badge.svg\" alt=\"Open In Colab\"/></a>"
      ]
    },
    {
      "cell_type": "code",
      "source": [
        "#!pip install KiteConnect\n",
        "from kiteconnect import KiteConnect\n",
        "from datetime import datetime\n",
        "import pandas as pd\n",
        "\n",
        "\n",
        "from_date = datetime.strptime('2022-05-12 9:15:00', '%Y-%m-%d %H:%M:%S')\n",
        "to_date = datetime.strptime('2022-05-12 10:15:00', '%Y-%m-%d %H:%M:%S')\n",
        "historical_data = kite.historical_data(instrument_token=str(6401),from_date=from_date,to_date=to_date,interval='minute', oi=True)\n"
      ],
      "metadata": {
        "id": "XjgLIk8_i85o"
      },
      "execution_count": null,
      "outputs": []
    },
    {
      "cell_type": "code",
      "source": [
        "data = pd.DataFrame(historical_data)\n",
        "data.set_index(pd.DatetimeIndex(data[\"date\"]),inplace=True)\n",
        "print (data)"
      ],
      "metadata": {
        "colab": {
          "base_uri": "https://localhost:8080/"
        },
        "id": "avaCVxw_k_bl",
        "outputId": "fe83b97f-32ee-463a-ad4d-79dd52860cd9"
      },
      "execution_count": 26,
      "outputs": [
        {
          "output_type": "stream",
          "name": "stdout",
          "text": [
            "                                               date     open     high  \\\n",
            "date                                                                    \n",
            "2022-05-12 09:15:00+05:30 2022-05-12 09:15:00+05:30  2103.00  2105.90   \n",
            "2022-05-12 09:16:00+05:30 2022-05-12 09:16:00+05:30  2105.05  2112.20   \n",
            "2022-05-12 09:17:00+05:30 2022-05-12 09:17:00+05:30  2112.00  2112.00   \n",
            "2022-05-12 09:18:00+05:30 2022-05-12 09:18:00+05:30  2098.00  2098.00   \n",
            "2022-05-12 09:19:00+05:30 2022-05-12 09:19:00+05:30  2093.00  2101.95   \n",
            "...                                             ...      ...      ...   \n",
            "2022-05-12 10:11:00+05:30 2022-05-12 10:11:00+05:30  2068.00  2068.90   \n",
            "2022-05-12 10:12:00+05:30 2022-05-12 10:12:00+05:30  2063.00  2068.15   \n",
            "2022-05-12 10:13:00+05:30 2022-05-12 10:13:00+05:30  2066.85  2067.25   \n",
            "2022-05-12 10:14:00+05:30 2022-05-12 10:14:00+05:30  2066.90  2066.90   \n",
            "2022-05-12 10:15:00+05:30 2022-05-12 10:15:00+05:30  2064.45  2064.45   \n",
            "\n",
            "                               low    close  volume  oi  \n",
            "date                                                     \n",
            "2022-05-12 09:15:00+05:30  2086.85  2105.35   21924   0  \n",
            "2022-05-12 09:16:00+05:30  2102.70  2112.00   15944   0  \n",
            "2022-05-12 09:17:00+05:30  2092.90  2096.70    9498   0  \n",
            "2022-05-12 09:18:00+05:30  2091.25  2093.00    8168   0  \n",
            "2022-05-12 09:19:00+05:30  2090.00  2099.90   11953   0  \n",
            "...                            ...      ...     ...  ..  \n",
            "2022-05-12 10:11:00+05:30  2062.00  2062.65    7180   0  \n",
            "2022-05-12 10:12:00+05:30  2063.00  2066.85    5455   0  \n",
            "2022-05-12 10:13:00+05:30  2064.00  2066.90    2138   0  \n",
            "2022-05-12 10:14:00+05:30  2063.00  2064.45    2552   0  \n",
            "2022-05-12 10:15:00+05:30  2058.05  2064.00    7482   0  \n",
            "\n",
            "[61 rows x 7 columns]\n"
          ]
        }
      ]
    },
    {
      "cell_type": "code",
      "source": [
        "#!pip install pandas_ta\n",
        "import pandas_ta as ta\n",
        "data =data.join(data.ta.sma(9))\n"
      ],
      "metadata": {
        "id": "nSRV62v4kUY6"
      },
      "execution_count": 36,
      "outputs": []
    },
    {
      "cell_type": "code",
      "source": [
        "data.head"
      ],
      "metadata": {
        "colab": {
          "base_uri": "https://localhost:8080/"
        },
        "id": "Oo5NRK3FkMaS",
        "outputId": "feb02617-4f7f-4657-ff04-1aa55f515fd8"
      },
      "execution_count": 38,
      "outputs": [
        {
          "output_type": "execute_result",
          "data": {
            "text/plain": [
              "<bound method NDFrame.head of                                                date     open     high  \\\n",
              "date                                                                    \n",
              "2022-05-12 09:15:00+05:30 2022-05-12 09:15:00+05:30  2103.00  2105.90   \n",
              "2022-05-12 09:16:00+05:30 2022-05-12 09:16:00+05:30  2105.05  2112.20   \n",
              "2022-05-12 09:17:00+05:30 2022-05-12 09:17:00+05:30  2112.00  2112.00   \n",
              "2022-05-12 09:18:00+05:30 2022-05-12 09:18:00+05:30  2098.00  2098.00   \n",
              "2022-05-12 09:19:00+05:30 2022-05-12 09:19:00+05:30  2093.00  2101.95   \n",
              "...                                             ...      ...      ...   \n",
              "2022-05-12 10:11:00+05:30 2022-05-12 10:11:00+05:30  2068.00  2068.90   \n",
              "2022-05-12 10:12:00+05:30 2022-05-12 10:12:00+05:30  2063.00  2068.15   \n",
              "2022-05-12 10:13:00+05:30 2022-05-12 10:13:00+05:30  2066.85  2067.25   \n",
              "2022-05-12 10:14:00+05:30 2022-05-12 10:14:00+05:30  2066.90  2066.90   \n",
              "2022-05-12 10:15:00+05:30 2022-05-12 10:15:00+05:30  2064.45  2064.45   \n",
              "\n",
              "                               low    close  volume  oi    SMA_5        SMA_9  \n",
              "date                                                                           \n",
              "2022-05-12 09:15:00+05:30  2086.85  2105.35   21924   0      NaN          NaN  \n",
              "2022-05-12 09:16:00+05:30  2102.70  2112.00   15944   0      NaN          NaN  \n",
              "2022-05-12 09:17:00+05:30  2092.90  2096.70    9498   0      NaN          NaN  \n",
              "2022-05-12 09:18:00+05:30  2091.25  2093.00    8168   0      NaN          NaN  \n",
              "2022-05-12 09:19:00+05:30  2090.00  2099.90   11953   0  2101.39          NaN  \n",
              "...                            ...      ...     ...  ..      ...          ...  \n",
              "2022-05-12 10:11:00+05:30  2062.00  2062.65    7180   0  2069.06  2074.961111  \n",
              "2022-05-12 10:12:00+05:30  2063.00  2066.85    5455   0  2067.83  2072.344444  \n",
              "2022-05-12 10:13:00+05:30  2064.00  2066.90    2138   0  2066.81  2070.116667  \n",
              "2022-05-12 10:14:00+05:30  2063.00  2064.45    2552   0  2065.77  2068.388889  \n",
              "2022-05-12 10:15:00+05:30  2058.05  2064.00    7482   0  2064.97  2067.500000  \n",
              "\n",
              "[61 rows x 9 columns]>"
            ]
          },
          "metadata": {},
          "execution_count": 38
        }
      ]
    }
  ]
}